{
  "nbformat": 4,
  "nbformat_minor": 0,
  "metadata": {
    "colab": {
      "provenance": [],
      "authorship_tag": "ABX9TyOifCs7EuNnNUdrNKuwYIvA",
      "include_colab_link": true
    },
    "kernelspec": {
      "name": "python3",
      "display_name": "Python 3"
    },
    "language_info": {
      "name": "python"
    }
  },
  "cells": [
    {
      "cell_type": "markdown",
      "metadata": {
        "id": "view-in-github",
        "colab_type": "text"
      },
      "source": [
        "<a href=\"https://colab.research.google.com/github/Nico5144/mnist-ml-project/blob/main/notebooks/3_mlp_model_ver1.ipynb\" target=\"_parent\"><img src=\"https://colab.research.google.com/assets/colab-badge.svg\" alt=\"Open In Colab\"/></a>"
      ]
    },
    {
      "cell_type": "code",
      "execution_count": 6,
      "metadata": {
        "id": "bUmVXcyBpB-9"
      },
      "outputs": [],
      "source": [
        "# Imports and data reload\n",
        "\n",
        "import numpy as np\n",
        "from tensorflow.keras.datasets import mnist\n",
        "from tensorflow.keras.models import Sequential\n",
        "from tensorflow.keras.layers import Flatten, Dense, Dropout\n",
        "from tensorflow.keras.callbacks import EarlyStopping\n",
        "from tensorflow.keras.utils import to_categorical\n",
        "\n",
        "# 1. Load MNIST\n",
        "\n",
        "(X_train, y_train), (X_test, y_test) = mnist.load_data()\n",
        "\n",
        "# 2. Normalize to [0,1]\n",
        "\n",
        "X_train = X_train.astype('float32') / 255.0\n",
        "X_test  = X_test.astype('float32')  / 255.0\n",
        "\n",
        "# 3. One‑hot encode labels for Keras\n",
        "\n",
        "y_train_cat = to_categorical(y_train, num_classes=10)\n",
        "y_test_cat  = to_categorical(y_test,  num_classes=10)\n"
      ]
    },
    {
      "cell_type": "code",
      "source": [
        "model = Sequential([\n",
        "    Flatten(input_shape=(28, 28)),      # flatten 2D → 1D vector\n",
        "    Dense(256, activation='relu'),      # hidden layer\n",
        "    Dropout(0.4),                       # regularize and reduce overfitting\n",
        "    Dense(128, activation='relu'),      # second hidden layer\n",
        "    Dropout(0.3),                       # regularize and reduce overfitting\n",
        "    Dense(64, activation='relu'),       # third hidden layer\n",
        "    Dense(10, activation='softmax')     # output layer for 10 classes\n",
        "])\n"
      ],
      "metadata": {
        "id": "37KSv5AGpQqo"
      },
      "execution_count": 41,
      "outputs": []
    },
    {
      "cell_type": "code",
      "source": [
        "model.compile(\n",
        "    optimizer='adam',\n",
        "    loss='categorical_crossentropy',\n",
        "    metrics=['accuracy']\n",
        ")\n",
        "\n",
        "# Stop early if validation loss doesn’t improve in 3 epochs\n",
        "\n",
        "es = EarlyStopping(monitor='val_loss', patience=5, restore_best_weights=True)\n",
        "\n",
        "history = model.fit(\n",
        "    X_train, y_train_cat,\n",
        "    validation_split=0.1,\n",
        "    epochs=20,\n",
        "    batch_size=128,\n",
        "    callbacks=[es],\n",
        "    verbose=2\n",
        ")\n"
      ],
      "metadata": {
        "colab": {
          "base_uri": "https://localhost:8080/"
        },
        "id": "mFmSsML9pTWu",
        "outputId": "618d9429-aa2a-4680-bd74-f581fd91ec40"
      },
      "execution_count": 42,
      "outputs": [
        {
          "output_type": "stream",
          "name": "stdout",
          "text": [
            "Epoch 1/20\n",
            "422/422 - 5s - 13ms/step - accuracy: 0.8527 - loss: 0.4705 - val_accuracy: 0.9617 - val_loss: 0.1274\n",
            "Epoch 2/20\n",
            "422/422 - 5s - 11ms/step - accuracy: 0.9419 - loss: 0.1944 - val_accuracy: 0.9712 - val_loss: 0.0916\n",
            "Epoch 3/20\n",
            "422/422 - 4s - 10ms/step - accuracy: 0.9550 - loss: 0.1522 - val_accuracy: 0.9752 - val_loss: 0.0830\n",
            "Epoch 4/20\n",
            "422/422 - 4s - 10ms/step - accuracy: 0.9614 - loss: 0.1302 - val_accuracy: 0.9818 - val_loss: 0.0679\n",
            "Epoch 5/20\n",
            "422/422 - 5s - 12ms/step - accuracy: 0.9646 - loss: 0.1158 - val_accuracy: 0.9782 - val_loss: 0.0734\n",
            "Epoch 6/20\n",
            "422/422 - 4s - 10ms/step - accuracy: 0.9693 - loss: 0.1011 - val_accuracy: 0.9803 - val_loss: 0.0731\n",
            "Epoch 7/20\n",
            "422/422 - 3s - 7ms/step - accuracy: 0.9714 - loss: 0.0920 - val_accuracy: 0.9813 - val_loss: 0.0647\n",
            "Epoch 8/20\n",
            "422/422 - 5s - 13ms/step - accuracy: 0.9730 - loss: 0.0867 - val_accuracy: 0.9833 - val_loss: 0.0654\n",
            "Epoch 9/20\n",
            "422/422 - 5s - 12ms/step - accuracy: 0.9756 - loss: 0.0801 - val_accuracy: 0.9808 - val_loss: 0.0664\n",
            "Epoch 10/20\n",
            "422/422 - 3s - 8ms/step - accuracy: 0.9760 - loss: 0.0763 - val_accuracy: 0.9818 - val_loss: 0.0652\n",
            "Epoch 11/20\n",
            "422/422 - 6s - 13ms/step - accuracy: 0.9776 - loss: 0.0718 - val_accuracy: 0.9808 - val_loss: 0.0677\n",
            "Epoch 12/20\n",
            "422/422 - 4s - 8ms/step - accuracy: 0.9776 - loss: 0.0723 - val_accuracy: 0.9832 - val_loss: 0.0644\n",
            "Epoch 13/20\n",
            "422/422 - 3s - 8ms/step - accuracy: 0.9796 - loss: 0.0672 - val_accuracy: 0.9848 - val_loss: 0.0576\n",
            "Epoch 14/20\n",
            "422/422 - 3s - 7ms/step - accuracy: 0.9800 - loss: 0.0618 - val_accuracy: 0.9820 - val_loss: 0.0652\n",
            "Epoch 15/20\n",
            "422/422 - 4s - 10ms/step - accuracy: 0.9809 - loss: 0.0606 - val_accuracy: 0.9827 - val_loss: 0.0577\n",
            "Epoch 16/20\n",
            "422/422 - 4s - 10ms/step - accuracy: 0.9817 - loss: 0.0575 - val_accuracy: 0.9813 - val_loss: 0.0687\n",
            "Epoch 17/20\n",
            "422/422 - 3s - 7ms/step - accuracy: 0.9819 - loss: 0.0558 - val_accuracy: 0.9830 - val_loss: 0.0602\n",
            "Epoch 18/20\n",
            "422/422 - 4s - 9ms/step - accuracy: 0.9833 - loss: 0.0547 - val_accuracy: 0.9825 - val_loss: 0.0658\n"
          ]
        }
      ]
    },
    {
      "cell_type": "code",
      "source": [
        "import matplotlib.pyplot as plt\n",
        "\n",
        "# Loss curves\n",
        "\n",
        "plt.figure(figsize=(12,4))\n",
        "plt.subplot(1,2,1)\n",
        "plt.plot(history.history['loss'], label='train')\n",
        "plt.plot(history.history['val_loss'], label='val')\n",
        "plt.title('Loss Curve')\n",
        "plt.legend()\n",
        "\n",
        "# Accuracy curves\n",
        "\n",
        "plt.subplot(1,2,2)\n",
        "plt.plot(history.history['accuracy'], label='train')\n",
        "plt.plot(history.history['val_accuracy'], label='val')\n",
        "plt.title('Accuracy Curve')\n",
        "plt.legend()\n",
        "plt.show()\n"
      ],
      "metadata": {
        "colab": {
          "base_uri": "https://localhost:8080/",
          "height": 391
        },
        "id": "LlNKqmxFpYVR",
        "outputId": "a4ff03d5-f949-4ecb-ec6a-b584c46f7402"
      },
      "execution_count": 43,
      "outputs": [
        {
          "output_type": "display_data",
          "data": {
            "text/plain": [
              "<Figure size 1200x400 with 2 Axes>"
            ],
            "image/png": "[encoded data removed]"
          },
          "metadata": {}
        }
      ]
    },
    {
      "cell_type": "markdown",
      "source": [
        "Data from run 1:\n",
        "\n",
        "Epoch 1/20\n",
        "422/422 - 5s - 11ms/step - accuracy: 0.8660 - loss: 0.4488 - val_accuracy: 0.9578 - val_loss: 0.1475\n",
        "\n",
        "Epoch 2/20\n",
        "422/422 - 4s - 10ms/step - accuracy: 0.9415 - loss: 0.1983 - val_accuracy: 0.9683 - val_loss: 0.1136\n",
        "\n",
        "Epoch 3/20\n",
        "422/422 - 2s - 5ms/step - accuracy: 0.9561 - loss: 0.1494 - val_accuracy: 0.9723 - val_loss: 0.0987\n",
        "\n",
        "Epoch 4/20\n",
        "422/422 - 4s - 9ms/step - accuracy: 0.9615 - loss: 0.1250 - val_accuracy: 0.9742 - val_loss: 0.0883\n",
        "\n",
        "Epoch 5/20\n",
        "422/422 - 2s - 5ms/step - accuracy: 0.9653 - loss: 0.1088 - val_accuracy: 0.9755 - val_loss: 0.0851\n",
        "\n",
        "Epoch 6/20\n",
        "422/422 - 2s - 6ms/step - accuracy: 0.9702 - loss: 0.0959 - val_accuracy: 0.9747 - val_loss: 0.0864\n",
        "\n",
        "Epoch 7/20\n",
        "422/422 - 3s - 6ms/step - accuracy: 0.9724 - loss: 0.0874 - val_accuracy: 0.9780 - val_loss: 0.0721\n",
        "\n",
        "Epoch 8/20\n",
        "422/422 - 3s - 7ms/step - accuracy: 0.9742 - loss: 0.0801 - val_accuracy: 0.9783 - val_loss: 0.0748\n",
        "\n",
        "Epoch 9/20\n",
        "422/422 - 3s - 7ms/step - accuracy: 0.9762 - loss: 0.0738 - val_accuracy: 0.9800 - val_loss: 0.0697\n",
        "\n",
        "Epoch 10/20\n",
        "422/422 - 4s - 11ms/step - accuracy: 0.9773 - loss: 0.0680 - val_accuracy: 0.9803 - val_loss: 0.0699\n",
        "\n",
        "Epoch 11/20\n",
        "422/422 - 2s - 5ms/step - accuracy: 0.9796 - loss: 0.0622 - val_accuracy: 0.9797 - val_loss: 0.0696\n",
        "\n",
        "Epoch 12/20\n",
        "422/422 - 3s - 6ms/step - accuracy: 0.9799 - loss: 0.0595 - val_accuracy: 0.9808 - val_loss: 0.0722\n",
        "\n",
        "Epoch 13/20\n",
        "422/422 - 3s - 7ms/step - accuracy: 0.9805 - loss: 0.0574 - val_accuracy: 0.9807 - val_loss: 0.0683\n",
        "\n",
        "Epoch 14/20\n",
        "422/422 - 4s - 10ms/step - accuracy: 0.9817 - loss: 0.0548 - val_accuracy: 0.9820 - val_loss: 0.0672\n",
        "\n",
        "Epoch 15/20\n",
        "422/422 - 2s - 6ms/step - accuracy: 0.9828 - loss: 0.0503 - val_accuracy: 0.9788 - val_loss: 0.0734\n",
        "\n",
        "Epoch 16/20\n",
        "422/422 - 3s - 6ms/step - accuracy: 0.9832 - loss: 0.0506 - val_accuracy: 0.9808 - val_loss: 0.0727\n",
        "\n",
        "Epoch 17/20\n",
        "422/422 - 3s - 7ms/step - accuracy: 0.9840 - loss: 0.0464 - val_accuracy: 0.9818 - val_loss: 0.0700\n",
        "\n",
        "Notes on first run:\n",
        "\n",
        "Wow! That progressed a lot faster than I was expecting. A starting accuracy as high as I got wasn't what I was expecting at the start, and then how fast it jupmed up was really impressive.\n",
        "\n",
        "Test Accuracy for the first run was 97.87%, which is pretty good. It took 17 epochs, and only had ~1% improvement over the last 9.\n",
        "\n",
        "Other data for run 1:\n",
        "\n",
        "\n",
        "    Flatten(input_shape=(28, 28)),      # flatten 2D → 1D vector\n",
        "    Dense(128, activation='relu'),      # hidden layer\n",
        "    Dropout(0.3),                       # regularize and reduce overfitting\n",
        "    Dense(64, activation='relu'),       # second hidden layer\n",
        "    Dense(10, activation='softmax')     # output layer for 10 classes\n",
        "\n",
        "I'm going to toy around with changing some values and see what new I can tweak, and where I can optimize\n",
        "\n",
        "Adem. 1:\n",
        "I tried adjusting some elements, and found that adding a thrid hidden layer increased outcom accuracy more than any other metric.\n",
        "\n",
        "Now going to try decresing the dropout between layers 2 and 3 to see if it leads to increase. Next step is to try increasing dropout between 2 and 3, then trying to increase dropout between 1 and 2\n",
        "  - nodes per layer are 256, 128, 64\n",
        "\n",
        "Adem. 2:\n",
        "\n",
        "Kept three layers, then tried adjusting weights with first testing high/low dropout between layers 2 and 3 (keeping dropout 1 constant at 0.3). There was minimal notcied change. After, I tried adjusting dropout 1 while keeping dropout 2 constant at 0.3.\n",
        "\n",
        "Overall, I noticed minimal change, but did manage to get the model to rank with a final test accuracy of 98%+ on a semi-regular basis.\n",
        "\n",
        "Next step is to play around with different model structures."
      ],
      "metadata": {
        "id": "Qf8_q01qrmAD"
      }
    },
    {
      "cell_type": "code",
      "source": [
        "test_loss, test_acc = model.evaluate(X_test, y_test_cat, verbose=0)\n",
        "print(f\"MLP Test Accuracy: {test_acc:.4f}\")\n"
      ],
      "metadata": {
        "colab": {
          "base_uri": "https://localhost:8080/"
        },
        "id": "TUV1V8gAphVY",
        "outputId": "2441d1fc-fc02-431f-8e66-d3d41c9030b6"
      },
      "execution_count": 44,
      "outputs": [
        {
          "output_type": "stream",
          "name": "stdout",
          "text": [
            "MLP Test Accuracy: 0.9803\n"
          ]
        }
      ]
    }
  ]
}