{
  "nbformat": 4,
  "nbformat_minor": 0,
  "metadata": {
    "colab": {
      "provenance": [],
      "authorship_tag": "ABX9TyO4lzDXT3y+teQUvsZUfNPJ",
      "include_colab_link": true
    },
    "kernelspec": {
      "name": "python3",
      "display_name": "Python 3"
    },
    "language_info": {
      "name": "python"
    }
  },
  "cells": [
    {
      "cell_type": "markdown",
      "metadata": {
        "id": "view-in-github",
        "colab_type": "text"
      },
      "source": [
        "<a href=\"https://colab.research.google.com/github/Nico5144/mnist-ml-project/blob/main/notebooks/4_cnn_and_saliency_ver0.ipynb\" target=\"_parent\"><img src=\"https://colab.research.google.com/assets/colab-badge.svg\" alt=\"Open In Colab\"/></a>"
      ]
    },
    {
      "cell_type": "code",
      "execution_count": 1,
      "metadata": {
        "id": "KtEnACz55q2r",
        "colab": {
          "base_uri": "https://localhost:8080/"
        },
        "outputId": "ba771e59-d844-4615-958a-fc6f39ba7cf8"
      },
      "outputs": [
        {
          "output_type": "stream",
          "name": "stdout",
          "text": [
            "Downloading data from https://storage.googleapis.com/tensorflow/tf-keras-datasets/mnist.npz\n",
            "\u001b[1m11490434/11490434\u001b[0m \u001b[32m━━━━━━━━━━━━━━━━━━━━\u001b[0m\u001b[37m\u001b[0m \u001b[1m0s\u001b[0m 0us/step\n"
          ]
        }
      ],
      "source": [
        "import numpy as np\n",
        "import matplotlib.pyplot as plt\n",
        "import tensorflow as tf\n",
        "from tensorflow.keras.datasets import mnist\n",
        "from tensorflow.keras.models import Sequential, Model\n",
        "from tensorflow.keras.layers import Reshape, Conv2D, MaxPooling2D, Flatten, Dense\n",
        "from tensorflow.keras import backend as K\n",
        "\n",
        "# 1. Load & preprocess MNIST\n",
        "\n",
        "(X_train, y_train), (X_test, y_test) = mnist.load_data()\n",
        "X_train = X_train.astype('float32') / 255.0\n",
        "X_test = X_test.astype('float32') / 255.0\n",
        "y_train_cat = tf.keras.utils.to_categorical(y_train, 10)\n",
        "y_test_cat = tf.keras.utils.to_categorical(y_test, 10)\n",
        "\n"
      ]
    },
    {
      "cell_type": "code",
      "source": [
        "# 2. Define simple CNN\n",
        "\n",
        "model = Sequential([\n",
        "    Reshape((28, 28, 1), input_shape=(28, 28)),\n",
        "    Conv2D(32, 3, activation='relu', name='conv1'),\n",
        "    MaxPooling2D(name='pool1'),\n",
        "    Conv2D(64, 3, activation='relu', name='conv2'),\n",
        "    MaxPooling2D(name='pool2'),\n",
        "    Flatten(),\n",
        "    Dense(128, activation='relu', name='dense1'),\n",
        "    Dense(10, activation='softmax', name='output')\n",
        "])\n",
        "\n",
        "\n",
        "# compiles model\n",
        "\n",
        "model.compile(optimizer='adam',\n",
        "              loss='categorical_crossentropy',\n",
        "              metrics=['accuracy'])\n",
        "\n",
        "\n"
      ],
      "metadata": {
        "id": "-7eyhHOy53es"
      },
      "execution_count": 8,
      "outputs": []
    },
    {
      "cell_type": "code",
      "source": [
        "# 3. Train CNN\n",
        "\n",
        "history = model.fit(\n",
        "    X_train, y_train_cat,\n",
        "    validation_split=0.1,\n",
        "    epochs=20,\n",
        "    batch_size=128,\n",
        "    verbose=2\n",
        ")\n",
        "\n",
        "\n",
        "# # Run after training/compile to run small predict of graph for grad-CAM\n",
        "\n",
        "# _ = model.predict(X_train[:1])    # runs one batch → builds the internal graph\n",
        "\n",
        "# # Now you can grab model.input/output and layer.output\n",
        "# last_conv = model.get_layer('conv2')\n",
        "# from tensorflow.keras.models import Model\n",
        "# grad_model = Model(\n",
        "#     inputs= model.input,                         # singular .input\n",
        "#     outputs=[last_conv.output, model.output]\n",
        "# )\n",
        "\n"
      ],
      "metadata": {
        "id": "pihZ3xBf53rV",
        "colab": {
          "base_uri": "https://localhost:8080/"
        },
        "outputId": "eaa376dc-0063-4bf2-d7a1-47a758b503d0"
      },
      "execution_count": 15,
      "outputs": [
        {
          "output_type": "stream",
          "name": "stdout",
          "text": [
            "Epoch 1/20\n",
            "422/422 - 39s - 92ms/step - accuracy: 0.9979 - loss: 0.0064 - val_accuracy: 0.9915 - val_loss: 0.0359\n",
            "Epoch 2/20\n",
            "422/422 - 37s - 88ms/step - accuracy: 0.9976 - loss: 0.0069 - val_accuracy: 0.9902 - val_loss: 0.0460\n",
            "Epoch 3/20\n",
            "422/422 - 35s - 84ms/step - accuracy: 0.9981 - loss: 0.0059 - val_accuracy: 0.9892 - val_loss: 0.0459\n",
            "Epoch 4/20\n",
            "422/422 - 41s - 97ms/step - accuracy: 0.9978 - loss: 0.0063 - val_accuracy: 0.9900 - val_loss: 0.0507\n",
            "Epoch 5/20\n",
            "422/422 - 40s - 95ms/step - accuracy: 0.9991 - loss: 0.0031 - val_accuracy: 0.9918 - val_loss: 0.0428\n",
            "Epoch 6/20\n",
            "422/422 - 42s - 99ms/step - accuracy: 0.9981 - loss: 0.0056 - val_accuracy: 0.9897 - val_loss: 0.0547\n",
            "Epoch 7/20\n",
            "422/422 - 41s - 97ms/step - accuracy: 0.9992 - loss: 0.0029 - val_accuracy: 0.9918 - val_loss: 0.0464\n",
            "Epoch 8/20\n",
            "422/422 - 41s - 97ms/step - accuracy: 0.9982 - loss: 0.0050 - val_accuracy: 0.9907 - val_loss: 0.0517\n",
            "Epoch 9/20\n",
            "422/422 - 40s - 94ms/step - accuracy: 0.9991 - loss: 0.0034 - val_accuracy: 0.9908 - val_loss: 0.0533\n",
            "Epoch 10/20\n",
            "422/422 - 42s - 100ms/step - accuracy: 0.9993 - loss: 0.0020 - val_accuracy: 0.9922 - val_loss: 0.0430\n",
            "Epoch 11/20\n",
            "422/422 - 41s - 97ms/step - accuracy: 0.9986 - loss: 0.0039 - val_accuracy: 0.9920 - val_loss: 0.0468\n",
            "Epoch 12/20\n",
            "422/422 - 41s - 96ms/step - accuracy: 0.9992 - loss: 0.0028 - val_accuracy: 0.9905 - val_loss: 0.0563\n",
            "Epoch 13/20\n",
            "422/422 - 40s - 95ms/step - accuracy: 0.9991 - loss: 0.0028 - val_accuracy: 0.9918 - val_loss: 0.0477\n",
            "Epoch 14/20\n",
            "422/422 - 42s - 100ms/step - accuracy: 0.9985 - loss: 0.0048 - val_accuracy: 0.9920 - val_loss: 0.0396\n",
            "Epoch 15/20\n",
            "422/422 - 41s - 97ms/step - accuracy: 0.9993 - loss: 0.0022 - val_accuracy: 0.9927 - val_loss: 0.0454\n",
            "Epoch 16/20\n",
            "422/422 - 35s - 84ms/step - accuracy: 0.9998 - loss: 5.5070e-04 - val_accuracy: 0.9922 - val_loss: 0.0551\n",
            "Epoch 17/20\n",
            "422/422 - 41s - 97ms/step - accuracy: 0.9998 - loss: 7.3278e-04 - val_accuracy: 0.9908 - val_loss: 0.0607\n",
            "Epoch 18/20\n",
            "422/422 - 41s - 97ms/step - accuracy: 0.9983 - loss: 0.0056 - val_accuracy: 0.9908 - val_loss: 0.0538\n",
            "Epoch 19/20\n",
            "422/422 - 40s - 94ms/step - accuracy: 0.9993 - loss: 0.0020 - val_accuracy: 0.9920 - val_loss: 0.0566\n",
            "Epoch 20/20\n",
            "422/422 - 43s - 101ms/step - accuracy: 0.9998 - loss: 6.5394e-04 - val_accuracy: 0.9913 - val_loss: 0.0593\n"
          ]
        }
      ]
    },
    {
      "cell_type": "code",
      "source": [
        "# # 3.5 Plots to observe efficacy of training\n",
        "\n",
        "# import matplotlib.pyplot as plt\n",
        "\n",
        "# # Loss curves\n",
        "\n",
        "# plt.figure(figsize=(12,4))\n",
        "# plt.subplot(1,2,1)\n",
        "# plt.plot(history.history['loss'], label='train')\n",
        "# plt.plot(history.history['val_loss'], label='val')\n",
        "# plt.title('Loss Curve')\n",
        "# plt.legend()\n",
        "\n",
        "# # Accuracy curves\n",
        "\n",
        "# plt.subplot(1,2,2)\n",
        "# plt.plot(history.history['accuracy'], label='train')\n",
        "# plt.plot(history.history['val_accuracy'], label='val')\n",
        "# plt.title('Accuracy Curve')\n",
        "# plt.legend()\n",
        "# plt.show()\n",
        "\n",
        "\n",
        "# #sanity check to see if exists\n",
        "\n",
        "# print(\"Model input:\", model.input)\n",
        "# print(\"Model output:\", model.output)\n",
        "# print(\"Conv2 output:\", last_conv.output)\n",
        "\n",
        "\n",
        "\n",
        "\n",
        "# # Run after training/compile to run small predict of graph for grad-CAM\n",
        "\n",
        "\n",
        "# model.build(input_shape=(None, 28, 28))\n",
        "\n",
        "\n",
        "\n",
        "# _ = model.predict(X_train[:1])    # runs one batch → builds the internal graph\n",
        "\n",
        "# # Now you can grab model.input/output and layer.output\n",
        "# last_conv = model.get_layer('conv2')\n",
        "# from tensorflow.keras.models import Model\n",
        "# grad_model = Model(\n",
        "#     inputs= model.input,                         # singular .input\n",
        "#     outputs=[last_conv.output, model.output]\n",
        "# )\n",
        "\n",
        "pass\n"
      ],
      "metadata": {
        "id": "eEo7QAjt9Bu_"
      },
      "execution_count": 10,
      "outputs": []
    },
    {
      "cell_type": "code",
      "source": [
        "# 4. Evaluate on test set\n",
        "\n",
        "test_loss, test_acc = model.evaluate(X_test, y_test_cat, verbose=0)\n",
        "print(f\"CNN Test Accuracy: {test_acc:.4f}\")\n",
        "\n"
      ],
      "metadata": {
        "id": "KTqjjA-j53yx",
        "colab": {
          "base_uri": "https://localhost:8080/"
        },
        "outputId": "93e45f91-e7e4-4ffb-a8fe-39fd32364313"
      },
      "execution_count": 16,
      "outputs": [
        {
          "output_type": "stream",
          "name": "stdout",
          "text": [
            "CNN Test Accuracy: 0.9915\n"
          ]
        }
      ]
    },
    {
      "cell_type": "code",
      "source": [
        "# 5. Build grad‑CAM model\n",
        "\n",
        "from tensorflow.keras.models import Model\n",
        "\n",
        "last_conv_layer = model.get_layer('conv2')\n",
        "\n",
        "grad_model = Model(\n",
        "    inputs = model.inputs,                    # list of input tensors\n",
        "    outputs = [ last_conv_layer.output,       # feature maps from conv2\n",
        "                model.outputs[0] ]            # the softmax output tensor\n",
        ")\n",
        "\n",
        "def compute_gradcam(img, class_idx):\n",
        "    img_tensor = np.expand_dims(img, axis=0)\n",
        "    with tf.GradientTape() as tape:\n",
        "        conv_outputs, predictions = grad_model(img_tensor)\n",
        "        loss = predictions[:, class_idx]\n",
        "    grads = tape.gradient(loss, conv_outputs)\n",
        "    pooled_grads = tf.reduce_mean(grads, axis=(0, 1, 2))\n",
        "    conv_outputs = conv_outputs.numpy()[0]\n",
        "    heatmap = np.zeros(conv_outputs.shape[:2], dtype=np.float32)\n",
        "    for i in range(conv_outputs.shape[-1]):\n",
        "        heatmap += pooled_grads[i] * conv_outputs[:, :, i]\n",
        "    heatmap = np.maximum(heatmap, 0) / (np.max(heatmap) + 1e-8)\n",
        "    return heatmap\n",
        "\n"
      ],
      "metadata": {
        "id": "iJHvCvvd537A"
      },
      "execution_count": 17,
      "outputs": []
    },
    {
      "cell_type": "code",
      "source": [
        "# 6. Visualize misclassifications with grad‑CAM\n",
        "\n",
        "preds = model.predict(X_test)\n",
        "y_pred = np.argmax(preds, axis=1)\n",
        "mis_idxs = np.where(y_pred != y_test)[0][:5]\n",
        "\n",
        "fig, axs = plt.subplots(5, 2, figsize=(6, 15))\n",
        "for i, idx in enumerate(mis_idxs):\n",
        "    img = X_test[idx]\n",
        "\n",
        "    # Original image\n",
        "\n",
        "    axs[i, 0].imshow(img, cmap='gray')\n",
        "    axs[i, 0].set_title(f\"True: {y_test[idx]}  Pred: {y_pred[idx]}\")\n",
        "    axs[i, 0].axis('off')\n",
        "\n",
        "    # Grad‑CAM overlay\n",
        "\n",
        "    heatmap = compute_gradcam(img, y_pred[idx])\n",
        "    axs[i, 1].imshow(img, cmap='gray')\n",
        "    axs[i, 1].imshow(heatmap, cmap='jet', alpha=0.5)\n",
        "    axs[i, 1].set_title(\"Grad‑CAM\")\n",
        "    axs[i, 1].axis('off')\n",
        "plt.tight_layout()\n",
        "plt.show()\n"
      ],
      "metadata": {
        "id": "evHd0sg-6JWh",
        "colab": {
          "base_uri": "https://localhost:8080/",
          "height": 1000
        },
        "outputId": "a593708b-6a05-4ed8-cd0a-7304b3200046"
      },
      "execution_count": 18,
      "outputs": [
        {
          "output_type": "stream",
          "name": "stdout",
          "text": [
            "\u001b[1m313/313\u001b[0m \u001b[32m━━━━━━━━━━━━━━━━━━━━\u001b[0m\u001b[37m\u001b[0m \u001b[1m3s\u001b[0m 10ms/step\n"
          ]
        },
        {
          "output_type": "display_data",
          "data": {
            "text/plain": [
              "<Figure size 600x1500 with 10 Axes>"
            ],
            "image/png": "[encoded data removed]"
          },
          "metadata": {}
        }
      ]
    },
    {
      "cell_type": "code",
      "source": [
        "# After model training\n",
        "\n",
        "model.save('mnist_cnn.keras')     # saves architecture + weights\n"
      ],
      "metadata": {
        "id": "fcU3nuoVlIBv"
      },
      "execution_count": 20,
      "outputs": []
    }
  ]
}